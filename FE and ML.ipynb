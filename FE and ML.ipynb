{
 "cells": [
  {
   "cell_type": "markdown",
   "id": "e2649786",
   "metadata": {},
   "source": [
    "## *Этап - Feature engineering и построение модели*"
   ]
  },
  {
   "cell_type": "code",
   "execution_count": null,
   "id": "e11e4f8d",
   "metadata": {},
   "outputs": [],
   "source": [
    "import pandas as pd\n",
    "import numpy as np\n",
    "import matplotlib.pyplot as plt\n",
    "import seaborn as sns"
   ]
  },
  {
   "cell_type": "code",
   "execution_count": null,
   "id": "18005dc6",
   "metadata": {},
   "outputs": [],
   "source": [
    "df = pd.read_csv('database.csv')\n",
    "df = df.drop(columns='Unnamed: 0')"
   ]
  },
  {
   "cell_type": "code",
   "execution_count": null,
   "id": "4419e251",
   "metadata": {},
   "outputs": [],
   "source": [
    "df.head()"
   ]
  },
  {
   "cell_type": "markdown",
   "id": "1c930aad",
   "metadata": {},
   "source": [
    "### Приведение признаков к соответствующему типу данных"
   ]
  },
  {
   "cell_type": "code",
   "execution_count": null,
   "id": "e5700ae6",
   "metadata": {},
   "outputs": [],
   "source": [
    "df.dtypes"
   ]
  },
  {
   "cell_type": "code",
   "execution_count": null,
   "id": "15dabb14",
   "metadata": {
    "scrolled": true
   },
   "outputs": [],
   "source": [
    "df.astype({'Price': 'int64'})"
   ]
  },
  {
   "cell_type": "code",
   "execution_count": null,
   "id": "0d24429b",
   "metadata": {},
   "outputs": [],
   "source": [
    "indx = []\n",
    "for i in range(len(df.Price)):\n",
    "    try:\n",
    "        int(df.Price[i])\n",
    "    except:\n",
    "        indx.append(i)\n",
    "df.iloc[indx]        "
   ]
  },
  {
   "cell_type": "markdown",
   "id": "03292cff",
   "metadata": {},
   "source": [
    "Ссылки на уже не существующие аукционы. Не буду их учитывать и дропну"
   ]
  },
  {
   "cell_type": "code",
   "execution_count": null,
   "id": "d4fe2104",
   "metadata": {},
   "outputs": [],
   "source": [
    "df = df.drop(indx, axis=0)\n",
    "df = df.reset_index(drop=True)"
   ]
  },
  {
   "cell_type": "code",
   "execution_count": null,
   "id": "d5c48915",
   "metadata": {},
   "outputs": [],
   "source": [
    "df = df.astype({'Price': 'int64'})\n",
    "df.dtypes"
   ]
  },
  {
   "cell_type": "code",
   "execution_count": null,
   "id": "2f8072f6",
   "metadata": {
    "scrolled": true
   },
   "outputs": [],
   "source": [
    "df.astype({'Area': 'float64'})"
   ]
  },
  {
   "cell_type": "code",
   "execution_count": null,
   "id": "2cb1cd20",
   "metadata": {
    "scrolled": true
   },
   "outputs": [],
   "source": [
    "indx = []\n",
    "for i in range(len(df.Area)):\n",
    "    try:\n",
    "        float(df.Area[i])\n",
    "    except:\n",
    "        indx.append(i)\n",
    "df.iloc[indx]        "
   ]
  },
  {
   "cell_type": "code",
   "execution_count": null,
   "id": "637592ac",
   "metadata": {},
   "outputs": [],
   "source": [
    "df = df.drop(indx, axis=0)\n",
    "df = df.reset_index(drop=True)"
   ]
  },
  {
   "cell_type": "code",
   "execution_count": null,
   "id": "5e69ad34",
   "metadata": {},
   "outputs": [],
   "source": [
    "df = df.astype({'Area': 'float64'})\n",
    "df.dtypes"
   ]
  },
  {
   "cell_type": "code",
   "execution_count": null,
   "id": "f0da9928",
   "metadata": {},
   "outputs": [],
   "source": [
    "df"
   ]
  }
 ],
 "metadata": {
  "kernelspec": {
   "display_name": "Python 3 (ipykernel)",
   "language": "python",
   "name": "python3"
  },
  "language_info": {
   "codemirror_mode": {
    "name": "ipython",
    "version": 3
   },
   "file_extension": ".py",
   "mimetype": "text/x-python",
   "name": "python",
   "nbconvert_exporter": "python",
   "pygments_lexer": "ipython3",
   "version": "3.9.7"
  }
 },
 "nbformat": 4,
 "nbformat_minor": 5
}
