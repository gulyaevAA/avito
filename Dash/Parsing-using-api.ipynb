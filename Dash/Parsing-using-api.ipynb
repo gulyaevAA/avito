{
 "cells": [
  {
   "cell_type": "markdown",
   "id": "a5dccab1",
   "metadata": {},
   "source": [
    "## Этап - *Парсинг и сохранение данных*"
   ]
  },
  {
   "cell_type": "markdown",
   "id": "6746c2ac",
   "metadata": {},
   "source": [
    "#### Импорт библиотек\n",
    "\n",
    "Для парсинга, используя API Вконтакте, достаточно библиотеки requests. Для сохранения данных импортировал библиотеку csv."
   ]
  },
  {
   "cell_type": "code",
   "execution_count": null,
   "id": "238cd195",
   "metadata": {},
   "outputs": [],
   "source": [
    "import requests\n",
    "import csv"
   ]
  },
  {
   "cell_type": "markdown",
   "id": "8a738ef5",
   "metadata": {},
   "source": [
    "#### Парсинг и сохранение данных\n",
    "\n",
    "Изучил необходимые методы из [документации](https://dev.vk.com/method) и, используя API Вконтакте, воспользовался соответствующими методами с заданными параметрами."
   ]
  },
  {
   "cell_type": "code",
   "execution_count": null,
   "id": "7a9d5974",
   "metadata": {},
   "outputs": [],
   "source": [
    "def take_posts():\n",
    "    '''\n",
    "    Парсинг постов из группы vk.com/imct_fefu\n",
    "    '''\n",
    "    # Локальное расположение токена, чтобы скрыть его из репозитория\n",
    "    with open('/Users/andrejgulaev/Documents/GitHub/Tokens/token-api.txt') as f:\n",
    "        TOKEN = f.readline()\n",
    "    VERSION = 5.131\n",
    "    DOMAIN = 'imct_fefu'\n",
    "    count = 100 # Указать кол-во постов. Кол-во может быть больше фактического. Кол-во смотреть здесь: https://vk.com/wall-206944280?offset=80&own=1\n",
    "\n",
    "    response = requests.get('https://api.vk.com/method/wall.get',\n",
    "                            params={\n",
    "                                'access_token':TOKEN,\n",
    "                                'v': VERSION,\n",
    "                                'domain': DOMAIN,\n",
    "                                'count': count\n",
    "                        }\n",
    "                        )\n",
    "    data = response.json()['response']['items']\n",
    "    return data\n",
    "\n",
    "def file_writer(all_posts):\n",
    "    '''\n",
    "    Запись постов в табличный файл\n",
    "    '''\n",
    "    with open ('IMKT.csv', 'w') as file:\n",
    "        a_pen = csv.writer(file)\n",
    "        a_pen.writerow(('id', 'date_UNIX', 'date_MSK', 'likes', 'views', 'reposts', 'comments', 'describe'))\n",
    "        for post in all_posts:\n",
    "            date = datetime.fromtimestamp(post['date'] + (60*60*7))\n",
    "            a_pen.writerow((post['id'],\n",
    "                            post['date'],\n",
    "                            date,\n",
    "                            post['likes']['count'],\n",
    "                            post['views']['count'],\n",
    "                            post['reposts']['count'],\n",
    "                            post['comments']['count'],\n",
    "                            post['text']\n",
    "                            ))"
   ]
  },
  {
   "cell_type": "code",
   "execution_count": null,
   "id": "e7ab4730",
   "metadata": {},
   "outputs": [],
   "source": [
    "all_posts = take_posts()\n",
    "file_writer(all_posts)"
   ]
  },
  {
   "cell_type": "code",
   "execution_count": null,
   "id": "5cf5e6d6",
   "metadata": {},
   "outputs": [],
   "source": [
    "def take_comments():\n",
    "    '''\n",
    "    Парсинг комментариев с постов из группы vk.com/imct_fefu\n",
    "    '''\n",
    "    # Локальное расположение токена, чтобы скрыть его из репозитория\n",
    "    with open('/Users/andrejgulaev/Documents/GitHub/Tokens/token-api.txt') as f:\n",
    "        TOKEN = f.readline()\n",
    "    VERSION = 5.131\n",
    "    owner_id = -206944280\n",
    "    count = 10\n",
    "    post_id = 245 # ID последнего поста: https://vk.com/wall-206944280?offset=80&own=1\n",
    "    all_comments = []\n",
    "    while post_id > 0:\n",
    "        response = requests.get('https://api.vk.com/method/wall.getComments',\n",
    "                                params={\n",
    "                                    'access_token':TOKEN,\n",
    "                                    'v': VERSION,\n",
    "                                    'owner_id': owner_id,\n",
    "                                    'post_id': post_id,\n",
    "                                    'count': count,\n",
    "                                    'need_likes': 1\n",
    "                            }\n",
    "                        )\n",
    "        post_id -= 1\n",
    "\n",
    "        try:\n",
    "            data = response.json()['response']['items']\n",
    "        except:\n",
    "            data = []\n",
    "        all_comments.extend(data)\n",
    "    return all_comments\n",
    "\n",
    "def file_writer_comments(all_comments):\n",
    "    '''\n",
    "    Запись комментариев в табличный файл\n",
    "    '''\n",
    "    with open ('IMKT-comments.csv', 'w') as file:\n",
    "        a_pen = csv.writer(file)\n",
    "        a_pen.writerow(('id', 'from_id', 'likes', 'text'))\n",
    "        for comment in all_comments:\n",
    "            a_pen.writerow((comment['post_id'],\n",
    "                            comment['from_id'],\n",
    "                            comment['likes']['count'],\n",
    "                            comment['text']\n",
    "                            ))"
   ]
  },
  {
   "cell_type": "code",
   "execution_count": null,
   "id": "32c6dad6",
   "metadata": {},
   "outputs": [],
   "source": [
    "all_comments = take_comments()\n",
    "file_writer_comments(all_comments)"
   ]
  },
  {
   "cell_type": "code",
   "execution_count": null,
   "id": "d2cb9bbc",
   "metadata": {},
   "outputs": [],
   "source": [
    "def take_members():\n",
    "    '''\n",
    "    Парсинг участников группы vk.com/imct_fefu\n",
    "    '''\n",
    "    # Локальное расположение токена, чтобы скрыть его из репозитория\n",
    "    with open('/Users/andrejgulaev/Documents/GitHub/Tokens/token-api.txt') as f:\n",
    "        TOKEN = f.readline()\n",
    "    VERSION = 5.131\n",
    "    group_id = 206944280\n",
    "    count = 1000\n",
    "    fields = 'sex, city'\n",
    "    all_members = []\n",
    "    response = requests.get('https://api.vk.com/method/groups.getMembers',\n",
    "                            params={\n",
    "                                'access_token':TOKEN,\n",
    "                                'v': VERSION,\n",
    "                                'group_id': group_id,\n",
    "                                'count': count,\n",
    "                                'fields': fields\n",
    "                        }\n",
    "                    )\n",
    "    try:\n",
    "        data = response.json()['response']['items']\n",
    "    except:\n",
    "        data = []\n",
    "    all_members.extend(data)\n",
    "    return all_members\n",
    "\n",
    "def file_writer_members(all_members):\n",
    "    with open ('IMKT-members.csv', 'w') as file:\n",
    "        a_pen = csv.writer(file)\n",
    "        a_pen.writerow(('id', 'first_name', 'last_name', 'sex', 'city'))\n",
    "        for member in all_members:\n",
    "            try:\n",
    "                city = member['city']['title']\n",
    "            except:\n",
    "                city = np.NaN\n",
    "            a_pen.writerow((member['id'],\n",
    "                            member['first_name'],\n",
    "                            member['last_name'],\n",
    "                            member['sex'],\n",
    "                            city\n",
    "                            ))"
   ]
  },
  {
   "cell_type": "code",
   "execution_count": null,
   "id": "24db04e4",
   "metadata": {},
   "outputs": [],
   "source": [
    "all_members = take_members()\n",
    "file_writer_members(all_members)"
   ]
  }
 ],
 "metadata": {
  "kernelspec": {
   "display_name": "Python 3 (ipykernel)",
   "language": "python",
   "name": "python3"
  },
  "language_info": {
   "codemirror_mode": {
    "name": "ipython",
    "version": 3
   },
   "file_extension": ".py",
   "mimetype": "text/x-python",
   "name": "python",
   "nbconvert_exporter": "python",
   "pygments_lexer": "ipython3",
   "version": "3.9.7"
  }
 },
 "nbformat": 4,
 "nbformat_minor": 5
}
