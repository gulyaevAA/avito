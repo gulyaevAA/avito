{
 "cells": [
  {
   "cell_type": "markdown",
   "id": "e2649786",
   "metadata": {},
   "source": [
    "## Имя проекта - *Scrapping avito and forecast price*"
   ]
  },
  {
   "cell_type": "markdown",
   "id": "edfbd6d8",
   "metadata": {},
   "source": [
    "## Цели:\n",
    "- Скрапинг данных жилой недвижимости с сайта Avito.ru.\n",
    "- Получение прогнозной цены жилого объекта недвижимости в зависимости от параметров.\n",
    "\n",
    "## Задачи:\n",
    "1. скрапинг данных с авито;\n",
    "1. подготовка данных для работы;\n",
    "1. проверка датасета;\n",
    "1. подготовка параметров к моделированию;\n",
    "1. обучение модели, проверка на тестовом множестве и корректировка модели;\n",
    "1. получить прогнозную цену по параметрам объекта жилой недвижимости;"
   ]
  },
  {
   "cell_type": "code",
   "execution_count": null,
   "id": "b42c1b72",
   "metadata": {},
   "outputs": [],
   "source": [
    "from bs4 import BeautifulSoup\n",
    "import requests\n",
    "from requests import get\n",
    "import time\n",
    "import random\n",
    "from hyper.contrib import HTTP20Adapter # Обход ошибки 403\n",
    "\n",
    "import pandas as pd\n",
    "import numpy as np\n",
    "import matplotlib.pyplot as plt\n",
    "import seaborn as sns"
   ]
  },
  {
   "cell_type": "code",
   "execution_count": null,
   "id": "04af8cf4",
   "metadata": {},
   "outputs": [],
   "source": [
    "HEADERS = {'User-Agent':'Mozilla/5.0 (Macintosh; Intel Mac OS X 10_15_7) AppleWebKit/605.1.15 (KHTML, like Gecko) Version/15.1 Safari/605.1.15'}\n",
    "\n",
    "rooms = []\n",
    "prices = []\n",
    "areas = []\n",
    "floors = []\n",
    "max_floors = []\n",
    "links = []\n",
    "balcony_or_loggia = []\n",
    "bathroom = []\n",
    "built_year = []"
   ]
  },
  {
   "cell_type": "code",
   "execution_count": null,
   "id": "a43d8146",
   "metadata": {
    "scrolled": true
   },
   "outputs": [],
   "source": [
    "import time\n",
    "startTime = time.time()\n",
    "\n",
    "def main_request(url):\n",
    "    '''Запрос страницы с сайта'''\n",
    "    s = requests.Session()\n",
    "    s.mount('https://', HTTP20Adapter())\n",
    "    response = s.get(url, headers=HEADERS)\n",
    "    return response\n",
    "\n",
    "\n",
    "def select_blocks(url, tag, class_name):\n",
    "    '''Отбор блоков объявлений'''\n",
    "    html_soup = BeautifulSoup(main_request(url).content, 'html.parser')\n",
    "    house_data = html_soup.find_all(tag, class_=class_name)\n",
    "    return house_data\n",
    "\n",
    "\n",
    "def select_features(house_data):\n",
    "    '''Добавление признака в соответствующий список'''\n",
    "    count_inner = 0\n",
    "    while count_inner < 10: #len(house_data)    \n",
    "        house = house_data[count_inner]\n",
    "\n",
    "        # Определение стоимости квартиры\n",
    "        price = house.find('span', {'class': 'price-text-_YGDY text-text-LurtD text-size-s-BxGpL'}).text\n",
    "        price = ''.join(price.split()[:-1])\n",
    "\n",
    "        # Сбор строчек с заголовка (кол-во комнат, метраж, этаж)\n",
    "        if house.find('a', {'class': 'link-link-MbQDP link-design-default-_nSbv title-root-zZCwT iva-item-title-py3i_ title-listRedesign-_rejR title-root_maxHeight-X6PsH'}):\n",
    "            title = house.find('a', {'class': 'link-link-MbQDP link-design-default-_nSbv title-root-zZCwT iva-item-title-py3i_ title-listRedesign-_rejR title-root_maxHeight-X6PsH'}).text\n",
    "        elif house.find('a', {'class': 'link-link-MbQDP link-design-default-_nSbv title-root-zZCwT iva-item-title-py3i_ title-large-jkTpZ title-root_maxHeight-X6PsH'}):\n",
    "            title = house.find('a', {'class': 'link-link-MbQDP link-design-default-_nSbv title-root-zZCwT iva-item-title-py3i_ title-large-jkTpZ title-root_maxHeight-X6PsH'}).text\n",
    "        else:\n",
    "            print('Ошибка поиска title')\n",
    "        title = [i.strip(',') for i in title.split()]\n",
    "\n",
    "        # Добавление признаков в соответсвующие списки\n",
    "        if title[1] == 'квартира':                  # Если заголовок имеет кол-во комнат\n",
    "            rooms.append(title[0][0])\n",
    "            area = '.'.join(title[2].split(','))\n",
    "            floor = title[4].split('/')[0]\n",
    "            max_floor = title[4].split('/')[1]\n",
    "        else:                                       # Если заголовок \"квартира-студия\"\n",
    "            rooms.append(1)                         # Если квартира-студия, то пусть комнат будет 1\n",
    "            area = '.'.join(title[1].split(','))\n",
    "\n",
    "        prices.append(price)\n",
    "        areas.append(area)\n",
    "        floors.append(floor)\n",
    "        max_floors.append(max_floor)\n",
    "\n",
    "        link = 'https://www.avito.ru' + house.find('a')['href']\n",
    "        links.append(link)\n",
    "        \n",
    "        # Запрос со страницы объекта недвижимости и отбор признаков\n",
    "        #delay()\n",
    "        house_info = select_blocks(link, page_tag, page_class_name)\n",
    "        \n",
    "        \n",
    "        bal_or_log = ''\n",
    "        bath = ''\n",
    "        year = ''\n",
    "        for i in house_info:\n",
    "            if 'Балкон' in i.find('span', {'class': 'item-params-label'}).text:\n",
    "                bal_or_log = i.text.split()[-1]\n",
    "            if 'Санузел' in i.find('span', {'class': 'item-params-label'}).text:\n",
    "                bath = i.text.split()[-1]\n",
    "            if 'Год' in i.find('span', {'class': 'item-params-label'}).text:\n",
    "                year = i.text.split()[-1]\n",
    "        if bal_or_log:\n",
    "            balcony_or_loggia.append(bal_or_log)\n",
    "        else:\n",
    "            balcony_or_loggia.append(np.NaN)\n",
    "        if bath:\n",
    "            bathroom.append(bath)\n",
    "        else:\n",
    "            bathroom.append(np.NaN)\n",
    "        if year:\n",
    "            built_year.append(year)\n",
    "        else:\n",
    "            built_year.append(np.NaN)\n",
    "        \n",
    "        count_inner += 1\n",
    "        return None\n",
    "        \n",
    "def delay():\n",
    "    '''Добавление задержки перед следующим запросом'''\n",
    "    value = random.random()\n",
    "    scaled_value = 1 + (value * (9 - 7))\n",
    "    #print(scaled_value)\n",
    "    time.sleep(scaled_value)\n",
    "    return None\n",
    "\n",
    "\n",
    "main_tag = 'div'\n",
    "main_class_name = 'iva-item-content-rejJg'\n",
    "page_tag = 'li'\n",
    "page_class_name = 'item-params-list-item'\n",
    "count = 1\n",
    "\n",
    "while count <= 1: \n",
    "    url = 'https://www.avito.ru/perm/kvartiry/prodam/vtorichka-ASgBAgICAkSSA8YQ5geMUg?context=H4sIAAAAAAAA_0q0MrSqLraysFJKK8rPDUhMT1WyLrYyNLNSKk5NLErOcMsvyg3PTElPLVGyrgUEAAD__xf8iH4tAAAA&p=' + str(count)\n",
    "    select_features(select_blocks(url, main_tag, main_class_name))\n",
    "    count += 1\n",
    "\n",
    "endTime = time.time() \n",
    "totalTime = endTime - startTime \n",
    "print(\"Время выполнения блока = \", totalTime)"
   ]
  },
  {
   "cell_type": "markdown",
   "id": "0dedb744",
   "metadata": {},
   "source": [
    "dataset = pd.read_csv('dataset.csv')\n",
    "def update_df():\n",
    "    count = 1\n",
    "    while count <= 1: \n",
    "        url = 'https://www.avito.ru/perm/kvartiry/prodam/vtorichka-ASgBAgICAkSSA8YQ5geMUg?context=H4sIAAAAAAAA_0q0MrSqLraysFJKK8rPDUhMT1WyLrYyNLNSKk5NLErOcMsvyg3PTElPLVGyrgUEAAD__xf8iH4tAAAA&p=' + str(count)\n",
    "        select_features(select_blocks(url, main_tag, main_class_name))\n",
    "        update_df = pd.DataFrame({'Price': prices, \n",
    "                                   'Rooms': rooms, \n",
    "                                   'Area': areas, \n",
    "                                   'Floor': floors, \n",
    "                                   'Max_house_floor': max_floors, \n",
    "                                   'balcony\\loggia': balcony_or_loggia,\n",
    "                                   'Bathroom': bathroom,\n",
    "                                   'Year built': built_year,\n",
    "                                   'Link': links})\n",
    "        for i in range(len(update_df.Link)):\n",
    "            if update_df.Link[i] in dataset.Link:\n",
    "                continue\n",
    "            else:\n",
    "                dataset = pd.concat(dataset, update_df.iloc[[i]])\n",
    "        count += 1\n",
    "\n",
    "update_df()"
   ]
  },
  {
   "cell_type": "code",
   "execution_count": null,
   "id": "39b0b389",
   "metadata": {
    "scrolled": true
   },
   "outputs": [],
   "source": [
    "df = pd.DataFrame({'Price': prices, \n",
    "                   'Rooms': rooms, \n",
    "                   'Area': areas, \n",
    "                   'Floor': floors, \n",
    "                   'Max_house_floor': max_floors, \n",
    "                   'balcony\\loggia': balcony_or_loggia,\n",
    "                   'Bathroom': bathroom,\n",
    "                   'Year built': built_year,\n",
    "                   'Link': links})"
   ]
  },
  {
   "cell_type": "code",
   "execution_count": null,
   "id": "72093854",
   "metadata": {},
   "outputs": [],
   "source": [
    "dataset.shape"
   ]
  },
  {
   "cell_type": "code",
   "execution_count": null,
   "id": "15200b79",
   "metadata": {},
   "outputs": [],
   "source": [
    "df.head()"
   ]
  },
  {
   "cell_type": "code",
   "execution_count": null,
   "id": "78027bcf",
   "metadata": {},
   "outputs": [],
   "source": [
    "for i in df.Area:\n",
    "    try:\n",
    "        float(i)\n",
    "    except:\n",
    "        print(i)"
   ]
  },
  {
   "cell_type": "code",
   "execution_count": null,
   "id": "f089324d",
   "metadata": {},
   "outputs": [],
   "source": [
    "df.query('Area == \"в\" or Area ==  \"планировка\"')"
   ]
  },
  {
   "cell_type": "code",
   "execution_count": null,
   "id": "a316c64e",
   "metadata": {},
   "outputs": [],
   "source": [
    "df = df.drop([68, 398], axis=0)\n",
    "df.shape"
   ]
  },
  {
   "cell_type": "code",
   "execution_count": null,
   "id": "5ee9af7f",
   "metadata": {},
   "outputs": [],
   "source": [
    "df.dtypes"
   ]
  },
  {
   "cell_type": "code",
   "execution_count": null,
   "id": "e67e44ca",
   "metadata": {},
   "outputs": [],
   "source": [
    "df.Area = df.Area.astype(float)"
   ]
  },
  {
   "cell_type": "code",
   "execution_count": null,
   "id": "fa9303a2",
   "metadata": {},
   "outputs": [],
   "source": [
    "for column in df.columns:\n",
    "    print(column + ':')\n",
    "    print(df[column].isnull().value_counts(), end='\\n\\n')"
   ]
  },
  {
   "cell_type": "code",
   "execution_count": null,
   "id": "24eacb84",
   "metadata": {},
   "outputs": [],
   "source": [
    "X = df.iloc[:, 1:5]\n",
    "y = df.Price"
   ]
  },
  {
   "cell_type": "code",
   "execution_count": null,
   "id": "322fe93e",
   "metadata": {
    "scrolled": true
   },
   "outputs": [],
   "source": [
    "sns.regplot(x='Area' ,y='Price', data=df)\n",
    "plt.xlim(0, 80)\n",
    "plt.ylim(0, 1e7)"
   ]
  },
  {
   "cell_type": "code",
   "execution_count": null,
   "id": "414a0081",
   "metadata": {},
   "outputs": [],
   "source": [
    "sns.displot(x='Rooms', data=df)\n",
    "plt.xlim(1, 5)"
   ]
  },
  {
   "cell_type": "code",
   "execution_count": null,
   "id": "b8cdcf96",
   "metadata": {},
   "outputs": [],
   "source": [
    "sns.heatmap(df.corr(), annot=True)"
   ]
  }
 ],
 "metadata": {
  "kernelspec": {
   "display_name": "Python 3 (ipykernel)",
   "language": "python",
   "name": "python3"
  },
  "language_info": {
   "codemirror_mode": {
    "name": "ipython",
    "version": 3
   },
   "file_extension": ".py",
   "mimetype": "text/x-python",
   "name": "python",
   "nbconvert_exporter": "python",
   "pygments_lexer": "ipython3",
   "version": "3.9.7"
  }
 },
 "nbformat": 4,
 "nbformat_minor": 5
}
